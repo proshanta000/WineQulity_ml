{
 "cells": [
  {
   "cell_type": "code",
   "execution_count": 1,
   "id": "982e2a15",
   "metadata": {},
   "outputs": [],
   "source": [
    "import os"
   ]
  },
  {
   "cell_type": "code",
   "execution_count": 2,
   "id": "f8767519",
   "metadata": {},
   "outputs": [
    {
     "data": {
      "text/plain": [
       "'d:\\\\Data_science\\\\Projects\\\\WineQulity_ml\\\\research'"
      ]
     },
     "execution_count": 2,
     "metadata": {},
     "output_type": "execute_result"
    }
   ],
   "source": [
    "%pwd"
   ]
  },
  {
   "cell_type": "code",
   "execution_count": 3,
   "id": "3189d5b8",
   "metadata": {},
   "outputs": [],
   "source": [
    "os.chdir(\"../\")"
   ]
  },
  {
   "cell_type": "code",
   "execution_count": 4,
   "id": "c50474ba",
   "metadata": {},
   "outputs": [
    {
     "data": {
      "text/plain": [
       "'d:\\\\Data_science\\\\Projects\\\\WineQulity_ml'"
      ]
     },
     "execution_count": 4,
     "metadata": {},
     "output_type": "execute_result"
    }
   ],
   "source": [
    "%pwd"
   ]
  },
  {
   "cell_type": "code",
   "execution_count": 5,
   "id": "b67cf408",
   "metadata": {},
   "outputs": [],
   "source": [
    "from dataclasses import dataclass\n",
    "from pathlib import Path\n",
    "\n",
    "\n",
    "@dataclass(frozen=True)\n",
    "class DataIngestionConfig:\n",
    "    \"\"\"\n",
    "    Configuration for the data ingestion stage.\n",
    "    \"\"\"\n",
    "    root_dir: Path  # Root directory where data ingestion artifacts are stored\n",
    "    source_URL: str  # URL to the source data file\n",
    "    local_data_file: Path  # Local path to save the downloaded data file\n",
    "    unzip_dir: Path  # Directory where the data will be unzipped"
   ]
  },
  {
   "cell_type": "code",
   "execution_count": 6,
   "id": "fa3485a3",
   "metadata": {},
   "outputs": [],
   "source": [
    "from WineMl.constants import *\n",
    "from WineMl.utils.common import read_yaml, create_directories"
   ]
  },
  {
   "cell_type": "code",
   "execution_count": 7,
   "id": "a85d855c",
   "metadata": {},
   "outputs": [],
   "source": [
    "class ConfigurationManager:\n",
    "    def __init__(\n",
    "        self,\n",
    "        config_filepath = CONFIG_FILE_PATH,\n",
    "        params_filepath = PARAMS_FILE_PATH,\n",
    "        schema_filepath = SCHEMA_FILE_PATH):\n",
    "\n",
    "        self.config = read_yaml(config_filepath)\n",
    "        self.params = read_yaml(params_filepath)\n",
    "        self.schema = read_yaml(schema_filepath)\n",
    "\n",
    "        create_directories([self.config.artifacts_root])\n",
    "\n",
    "    def get_data_ingestion_config(self) -> DataIngestionConfig:\n",
    "        config = self.config.data_ingestion\n",
    "\n",
    "        create_directories([config.root_dir])\n",
    "\n",
    "        data_ingestion_config = DataIngestionConfig(\n",
    "            root_dir= config.root_dir,\n",
    "            source_URL= config.source_URL,\n",
    "            local_data_file=config.local_data_file,\n",
    "            unzip_dir=config.unzip_dir\n",
    "        )\n",
    "\n",
    "        return data_ingestion_config"
   ]
  },
  {
   "cell_type": "code",
   "execution_count": 8,
   "id": "995cdeee",
   "metadata": {},
   "outputs": [],
   "source": [
    "import os\n",
    "from pathlib import Path\n",
    "import zipfile\n",
    "from WineMl import logger\n",
    "from WineMl.utils.common import get_size\n",
    "import requests\n",
    "from tqdm import tqdm"
   ]
  },
  {
   "cell_type": "code",
   "execution_count": 9,
   "id": "cc68a267",
   "metadata": {},
   "outputs": [],
   "source": [
    "class DataIngestion:\n",
    "    def __init__(self, config : DataIngestionConfig):\n",
    "        self.config = config\n",
    "    \n",
    "    def download_file(self):\n",
    "        # The file will only be download if it dosn't already exist\n",
    "        if not os.path.exists(self.config.local_data_file):\n",
    "            logger.info(\"Starting file download...\")\n",
    "\n",
    "            # ---- START: Progress Bar IMplementation ----\n",
    "            url = self.config.source_URL\n",
    "            local_filename = self.config.local_data_file\n",
    "\n",
    "\n",
    "            # 1. Initiate the request with streming enabled\n",
    "            response = requests.get(url, stream=True)\n",
    "            response.raise_for_status() #Checl for bad status\n",
    "\n",
    "            # 2. Get the total file size(Content-lenth)\n",
    "            total_size_in_bytes = int(response.headers.get('content-length', 0))\n",
    "            block_size = 1024 # 1 kilobyte\n",
    "\n",
    "\n",
    "            # 3. use tqdm to track progress\n",
    "            progress_bar = tqdm(\n",
    "                total=total_size_in_bytes,\n",
    "                unit='iB',\n",
    "                unit_scale=True,\n",
    "                desc = local_filename\n",
    "            )\n",
    "\n",
    "            # 4. write to  file and update the progress bar\n",
    "            with open(local_filename, 'wb') as file:\n",
    "                for data in response.iter_content(block_size):\n",
    "                    progress_bar.update(len(data))\n",
    "                    file.write(data)\n",
    "\n",
    "            progress_bar.close()\n",
    "            # ------ END: Progress bar Implementation ---\n",
    "\n",
    "            # Check if download was complete (optional integrity check)\n",
    "            if total_size_in_bytes !=0 and progress_bar.n != total_size_in_bytes:\n",
    "                logger.warning(\"Download integrity check failed. File Size mismatch.\")\n",
    "\n",
    "\n",
    "            logger.info(f\"{local_filename} downloaded successfully!\")\n",
    "\n",
    "        else: \n",
    "            # Original logic for file already existing\n",
    "            logger.info(f\"File already exists of size: {get_size(Path(self.config.local_data_file))}\")\n",
    "    \n",
    "\n",
    "    def extract_zip_file(self):\n",
    "\n",
    "        \"\"\"\n",
    "        Extracts a zip file into a specified directory.\n",
    "        \n",
    "        This method takes the path of a downloaded zip file and extracts its\n",
    "        contents to the designated `unzip_dir`. It ensures the destination\n",
    "        directory exists before extraction.\n",
    "        \"\"\"\n",
    "        unzip_path = self.config.unzip_dir\n",
    "\n",
    "        os.makedirs(unzip_path, exist_ok=True)\n",
    "\n",
    "        with zipfile.ZipFile(self.config.local_data_file, 'r') as zip_ref:\n",
    "            zip_ref.extractall(unzip_path)\n",
    "        \n",
    "        logger.info(f\"Zip file extracted to {unzip_path}\")\n"
   ]
  },
  {
   "cell_type": "code",
   "execution_count": 10,
   "id": "7d1e1ef2",
   "metadata": {},
   "outputs": [
    {
     "name": "stdout",
     "output_type": "stream",
     "text": [
      "[2025-09-29 02:19:52,697: INFO: common: yaml file: config\\config.yaml loaded successfully]\n",
      "[2025-09-29 02:19:52,699: INFO: common: yaml file: params.yaml loaded successfully]\n",
      "[2025-09-29 02:19:52,701: INFO: common: yaml file: schema.yaml loaded successfully]\n",
      "[2025-09-29 02:19:52,703: INFO: common: created directory at: artifacts_root]\n",
      "[2025-09-29 02:19:52,705: INFO: common: created directory at: artifacts/data_ingestion]\n",
      "[2025-09-29 02:19:52,706: INFO: 3978221524: Starting file download...]\n"
     ]
    },
    {
     "name": "stderr",
     "output_type": "stream",
     "text": [
      "artifacts/data_ingestion/data.zip: 100%|██████████| 23.3k/23.3k [00:00<00:00, 708kiB/s]"
     ]
    },
    {
     "name": "stdout",
     "output_type": "stream",
     "text": [
      "[2025-09-29 02:19:53,753: INFO: 3978221524: artifacts/data_ingestion/data.zip downloaded successfully!]\n",
      "[2025-09-29 02:19:53,782: INFO: 3978221524: Zip file extracted to artifacts/data_ingestion]\n"
     ]
    },
    {
     "name": "stderr",
     "output_type": "stream",
     "text": [
      "\n"
     ]
    }
   ],
   "source": [
    "try:\n",
    "    config = ConfigurationManager()\n",
    "    data_ingestion_config = config.get_data_ingestion_config()\n",
    "    data_ingestion = DataIngestion(config=data_ingestion_config)\n",
    "    data_ingestion.download_file()\n",
    "    data_ingestion.extract_zip_file()\n",
    "\n",
    "except Exception as e:\n",
    "    raise e"
   ]
  },
  {
   "cell_type": "code",
   "execution_count": null,
   "id": "aee05bd6",
   "metadata": {},
   "outputs": [],
   "source": []
  },
  {
   "cell_type": "code",
   "execution_count": null,
   "id": "854155a4",
   "metadata": {},
   "outputs": [],
   "source": []
  },
  {
   "cell_type": "code",
   "execution_count": null,
   "id": "66314b18",
   "metadata": {},
   "outputs": [],
   "source": []
  },
  {
   "cell_type": "code",
   "execution_count": null,
   "id": "4bae6d3a",
   "metadata": {},
   "outputs": [],
   "source": []
  }
 ],
 "metadata": {
  "kernelspec": {
   "display_name": "Python 3",
   "language": "python",
   "name": "python3"
  },
  "language_info": {
   "codemirror_mode": {
    "name": "ipython",
    "version": 3
   },
   "file_extension": ".py",
   "mimetype": "text/x-python",
   "name": "python",
   "nbconvert_exporter": "python",
   "pygments_lexer": "ipython3",
   "version": "3.11.0"
  }
 },
 "nbformat": 4,
 "nbformat_minor": 5
}
